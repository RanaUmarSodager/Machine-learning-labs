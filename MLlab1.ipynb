{
 "cells": [
  {
   "cell_type": "code",
   "execution_count": 2,
   "metadata": {},
   "outputs": [],
   "source": [
    "#Name:Muhammad Umar Sodager\n",
    "#Reg No:2019-EE-286\n",
    "import numpy as np\n",
    "#NumPy (pronounced or sometimes ) is a library for the Python programming language, adding support for large, multi-dimensional arrays and matrices.Here we use as \"np\"  \n",
    "import math as m\n",
    "#Python has a set of built-in math functions, including an extensive math module, that allows you to perform mathematical tasks on numbers.Here we use as the name \"m\"\n",
    "from sklearn.metrics.pairwise import paired_distances"
   ]
  },
  {
   "cell_type": "code",
   "execution_count": 13,
   "metadata": {},
   "outputs": [],
   "source": [
    "def Distance(X):#define a function Distance\n",
    "    n= Y.shape[0]\n",
    "    D= np.zeros((n,n))\n",
    "    for i in range(n):\n",
    "        for j in range(n):\n",
    "            D[i,j] = m.sqrt((abs(Y[i,0])-abs(Y[j,0]))**2+(abs(Y[i,1])-abs(Y[j,1]))**2)\n",
    "            D[j,i] = m.sqrt((abs(Y[i,0])-abs(Y[j,0]))**2+(abs(Y[i,1])-abs(Y[j,1]))**2)\n",
    "    return D"
   ]
  },
  {
   "cell_type": "code",
   "execution_count": 15,
   "metadata": {},
   "outputs": [
    {
     "name": "stdout",
     "output_type": "stream",
     "text": [
      "1.11 s ± 67 ms per loop (mean ± std. dev. of 7 runs, 1 loop each)\n",
      "49 µs ± 1.27 µs per loop (mean ± std. dev. of 7 runs, 10000 loops each)\n"
     ]
    }
   ],
   "source": [
    "Y = np.random.normal(size=(500,4)) #any positive integer as we use 4\n",
    "%timeit Distance(Y)#modulo operator\n",
    "%timeit paired_distances(Y,Y)#modulo operator paired_distance"
   ]
  },
  {
   "cell_type": "code",
   "execution_count": null,
   "metadata": {},
   "outputs": [],
   "source": []
  }
 ],
 "metadata": {
  "kernelspec": {
   "display_name": "Python 3",
   "language": "python",
   "name": "python3"
  },
  "language_info": {
   "codemirror_mode": {
    "name": "ipython",
    "version": 3
   },
   "file_extension": ".py",
   "mimetype": "text/x-python",
   "name": "python",
   "nbconvert_exporter": "python",
   "pygments_lexer": "ipython3",
   "version": "3.7.4"
  }
 },
 "nbformat": 4,
 "nbformat_minor": 5
}
